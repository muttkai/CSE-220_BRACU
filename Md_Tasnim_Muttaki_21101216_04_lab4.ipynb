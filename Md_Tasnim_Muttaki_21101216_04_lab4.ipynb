{
  "nbformat": 4,
  "nbformat_minor": 0,
  "metadata": {
    "colab": {
      "provenance": []
    },
    "kernelspec": {
      "name": "python3",
      "display_name": "Python 3"
    },
    "language_info": {
      "name": "python"
    }
  },
  "cells": [
    {
      "cell_type": "code",
      "execution_count": 3,
      "metadata": {
        "colab": {
          "base_uri": "https://localhost:8080/",
          "height": 272
        },
        "id": "mRIW73AsVaTZ",
        "outputId": "02523a79-17c0-413a-d54f-f0b3a361f7e9"
      },
      "outputs": [
        {
          "name": "stdout",
          "output_type": "stream",
          "text": [
            "21101216\n",
            "muttaki\n"
          ]
        },
        {
          "output_type": "error",
          "ename": "ValueError",
          "evalue": "ignored",
          "traceback": [
            "\u001b[0;31m---------------------------------------------------------------------------\u001b[0m",
            "\u001b[0;31mValueError\u001b[0m                                Traceback (most recent call last)",
            "\u001b[0;32m<ipython-input-3-24c7a8a6da41>\u001b[0m in \u001b[0;36m<cell line: 73>\u001b[0;34m()\u001b[0m\n\u001b[1;32m     72\u001b[0m \u001b[0mpopular\u001b[0m\u001b[0;34m=\u001b[0m\u001b[0mWRM\u001b[0m\u001b[0;34m(\u001b[0m\u001b[0;34m)\u001b[0m\u001b[0;34m\u001b[0m\u001b[0;34m\u001b[0m\u001b[0m\n\u001b[1;32m     73\u001b[0m \u001b[0;32mwhile\u001b[0m \u001b[0;32mTrue\u001b[0m\u001b[0;34m:\u001b[0m\u001b[0;34m\u001b[0m\u001b[0;34m\u001b[0m\u001b[0m\n\u001b[0;32m---> 74\u001b[0;31m   \u001b[0mnum\u001b[0m\u001b[0;34m=\u001b[0m\u001b[0mint\u001b[0m\u001b[0;34m(\u001b[0m\u001b[0minput\u001b[0m\u001b[0;34m(\u001b[0m\u001b[0;34m)\u001b[0m\u001b[0;34m)\u001b[0m\u001b[0;34m\u001b[0m\u001b[0;34m\u001b[0m\u001b[0m\n\u001b[0m\u001b[1;32m     75\u001b[0m   \u001b[0;32mif\u001b[0m \u001b[0mnum\u001b[0m\u001b[0;34m==\u001b[0m\u001b[0;36m1\u001b[0m\u001b[0;34m:\u001b[0m\u001b[0;34m\u001b[0m\u001b[0;34m\u001b[0m\u001b[0m\n\u001b[1;32m     76\u001b[0m     \u001b[0mprint\u001b[0m\u001b[0;34m(\u001b[0m\u001b[0;34m'Register Patient'\u001b[0m\u001b[0;34m)\u001b[0m\u001b[0;34m\u001b[0m\u001b[0;34m\u001b[0m\u001b[0m\n",
            "\u001b[0;31mValueError\u001b[0m: invalid literal for int() with base 10: 'muttaki'"
          ]
        }
      ],
      "source": [
        "class Patient:\n",
        "   def _init_(self,id,name,age,bg,next=None,prev=None):\n",
        "    self.id=id\n",
        "    self.name=name\n",
        "    self.age=age\n",
        "    self.bg=bg\n",
        "    self.next=next\n",
        "    self.prev=prev\n",
        "class WRM:\n",
        "  def _init_(self):\n",
        "    self.head=Patient(None,None,None,None)\n",
        "    self.head.next=self.head\n",
        "    self.head.prev=self.head\n",
        "\n",
        "  def NodeAt(self,head,idx):\n",
        "    temp=self.head.next\n",
        "    cnt=0\n",
        "    while temp!=self.head:\n",
        "      if cnt==idx:\n",
        "        return temp\n",
        "      cnt+=1\n",
        "      temp=temp.next\n",
        "    return temp\n",
        "\n",
        "  def RegisterPatient(self,id,name,age,bg):\n",
        "    temp=self.head.next\n",
        "    idx=0\n",
        "    while temp!=self.head:\n",
        "\n",
        "      idx+=1\n",
        "      temp=temp.next\n",
        "    ins=Patient(id,name,age,bg,None,None)\n",
        "    dgt=self.NodeAt(self.head,idx)\n",
        "    prev_node=dgt.prev\n",
        "    ins.next=dgt\n",
        "    ins.prev=prev_node\n",
        "    prev_node.next=ins\n",
        "    dgt.prev=ins\n",
        "    return 'Success'\n",
        "\n",
        "  def ServePatient(self):\n",
        "    idx=0\n",
        "    rmv=self.NodeAt(self.head,idx)\n",
        "    prev_node=rmv.prev\n",
        "    next_node=rmv.next\n",
        "    prev_node.next=next_node\n",
        "    next_node.prev=prev_node\n",
        "    rmv.next=None\n",
        "    rmv.prev=None\n",
        "    return rmv.name\n",
        "\n",
        "  def CancelAll(self):\n",
        "    self.head.next=self.head\n",
        "    self.head.prev=self.head\n",
        "    return 'Success'\n",
        "\n",
        "  def DoctorCanGoHome(self):\n",
        "    if self.head.next==self.head:\n",
        "      return \"yes\"\n",
        "    else:\n",
        "      return \"no\"\n",
        "\n",
        "\n",
        "  def ShowAllPatient(self):\n",
        "    temp=self.head.next\n",
        "    while temp!=self.head:\n",
        "      print(temp.name,end=' ')\n",
        "      temp=temp.next\n",
        "\n",
        "\n",
        "\n",
        "popular=WRM()\n",
        "while True:\n",
        "  num=int(input())\n",
        "  if num==1:\n",
        "    print('Register Patient')\n",
        "\n",
        "\n",
        "    id=int(input('id:'))\n",
        "    name=input('name:')\n",
        "    age=int(input('age:'))\n",
        "    bg=(input('blood group:'))\n",
        "    var1=popular.RegisterPatient(id,name,age,bg)\n",
        "    print(var1)\n",
        "  elif num==2:\n",
        "    print('Served')\n",
        "    var2=popular.ServePatient()\n",
        "    print(var2)\n",
        "  elif num==3:\n",
        "    print('Canceled')\n",
        "    var3=popular.CancelAll()\n",
        "    print(var3)\n",
        "  elif num==4:\n",
        "    print('Can doctor go home?')\n",
        "    var4=popular.DoctorCanGoHome()\n",
        "    print(var4)\n",
        "  elif num==5:\n",
        "    print('All name')\n",
        "    var5=popular.ShowAllPatient()\n",
        "  elif num==6:\n",
        "    print('Exit')\n"
      ]
    }
  ]
}