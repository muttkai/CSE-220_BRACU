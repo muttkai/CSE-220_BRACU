{
  "nbformat": 4,
  "nbformat_minor": 0,
  "metadata": {
    "colab": {
      "provenance": []
    },
    "kernelspec": {
      "name": "python3",
      "display_name": "Python 3"
    },
    "language_info": {
      "name": "python"
    }
  },
  "cells": [
    {
      "cell_type": "code",
      "execution_count": 1,
      "metadata": {
        "colab": {
          "base_uri": "https://localhost:8080/"
        },
        "id": "OSw-FzsjVNL_",
        "outputId": "5cc05708-860a-4836-e02d-e470ec094b00"
      },
      "outputs": [
        {
          "output_type": "stream",
          "name": "stdout",
          "text": [
            "3628800\n"
          ]
        }
      ],
      "source": [
        "#task_1 a\n",
        "def fact(n):\n",
        "  if n==0 or n==1:\n",
        "    return 1\n",
        "  else:\n",
        "   return n*fact(n-1)\n",
        "n = 10\n",
        "print(fact(n))"
      ]
    },
    {
      "cell_type": "code",
      "source": [
        "#task_1b\n",
        "def fib(n):\n",
        "  if n<=1:\n",
        "    return n\n",
        "  else:\n",
        "    return fib(n-1) +fib(n-2)\n",
        "n =10\n",
        "print(fib(n))"
      ],
      "metadata": {
        "colab": {
          "base_uri": "https://localhost:8080/"
        },
        "id": "Nc6g3SstVhUh",
        "outputId": "c13f8882-72fb-4ff2-eb2c-77aa8b5d87af"
      },
      "execution_count": 2,
      "outputs": [
        {
          "output_type": "stream",
          "name": "stdout",
          "text": [
            "55\n"
          ]
        }
      ]
    },
    {
      "cell_type": "code",
      "source": [
        "#task_1c\n",
        "def print_arr(arr,i):\n",
        "  if i == len(arr):\n",
        "    return None\n",
        "  else:\n",
        "    return print_arr(arr,i+1)\n",
        "arr = (10,20,30,40,50)\n",
        "print(arr)"
      ],
      "metadata": {
        "colab": {
          "base_uri": "https://localhost:8080/"
        },
        "id": "C3yFQSYfVhfB",
        "outputId": "b25630a3-83c9-4d02-c04d-f674bd90394d"
      },
      "execution_count": 3,
      "outputs": [
        {
          "output_type": "stream",
          "name": "stdout",
          "text": [
            "(10, 20, 30, 40, 50)\n"
          ]
        }
      ]
    },
    {
      "cell_type": "code",
      "source": [
        "#task_1d\n",
        "def basen(base,n):\n",
        "  if n==0:\n",
        "    return 1\n",
        "  elif n == 1:\n",
        "    return base\n",
        "  else:\n",
        "    return base*(basen(base,n-1))\n",
        "base,n = 3,2\n",
        "print(basen(base,n))"
      ],
      "metadata": {
        "colab": {
          "base_uri": "https://localhost:8080/"
        },
        "id": "sT9eDpNAVhiB",
        "outputId": "db006ca6-d515-4ca6-fc59-90d91451407e"
      },
      "execution_count": 4,
      "outputs": [
        {
          "output_type": "stream",
          "name": "stdout",
          "text": [
            "9\n"
          ]
        }
      ]
    },
    {
      "cell_type": "code",
      "source": [
        "#task_2a\n",
        "def bin(n):\n",
        "  if n == 0:\n",
        "    return 0\n",
        "  else:\n",
        "    return (n%2)+10*bin(n//2)\n",
        "n = 10\n",
        "print(bin(n))"
      ],
      "metadata": {
        "colab": {
          "base_uri": "https://localhost:8080/"
        },
        "id": "aNRGlyIFVhkJ",
        "outputId": "8ec613a5-7e07-4c12-97cc-e7d5df45eb37"
      },
      "execution_count": 5,
      "outputs": [
        {
          "output_type": "stream",
          "name": "stdout",
          "text": [
            "1010\n"
          ]
        }
      ]
    },
    {
      "cell_type": "code",
      "source": [
        "#task2_b\n",
        "class Node:\n",
        "    def __init__(self,ele = None,next = None):\n",
        "        self.ele = ele\n",
        "        self.next = next\n",
        "i3 = Node(40)\n",
        "i2 = Node(30,i3)\n",
        "i1 = Node(20,i2)\n",
        "i0 = Node(10,i1)\n",
        "def add_sum(Node):\n",
        "    if Node.next == None:\n",
        "        return Node.ele\n",
        "    return Node.ele +add_sum(Node.next)\n",
        "print(add_sum(i0))"
      ],
      "metadata": {
        "colab": {
          "base_uri": "https://localhost:8080/"
        },
        "id": "kumVjlpQVqwZ",
        "outputId": "2ab33a3f-90c1-4e32-f50d-156ee618ace5"
      },
      "execution_count": 6,
      "outputs": [
        {
          "output_type": "stream",
          "name": "stdout",
          "text": [
            "100\n"
          ]
        }
      ]
    },
    {
      "cell_type": "code",
      "source": [
        "def add_sum(Node):\n",
        "  if Node.next == None:\n",
        "    return Node.ele\n",
        "  return Node.ele+(add_sum(Node.next))"
      ],
      "metadata": {
        "id": "2uKbomArVqyp"
      },
      "execution_count": 7,
      "outputs": []
    },
    {
      "cell_type": "code",
      "source": [
        "#task2_c\n",
        "def print_rev(Node):\n",
        "    if Node.next == None:\n",
        "        print(Node.ele,end=' ')\n",
        "    else:\n",
        "        print_rev(Node.next)\n",
        "        print(Node.ele,end=' ')\n",
        "print_rev(i0)\n",
        "print()"
      ],
      "metadata": {
        "colab": {
          "base_uri": "https://localhost:8080/"
        },
        "id": "ppGrLWOwVq0x",
        "outputId": "addf1ed6-c68e-4acf-ac44-add2a9d432c6"
      },
      "execution_count": 8,
      "outputs": [
        {
          "output_type": "stream",
          "name": "stdout",
          "text": [
            "40 30 20 10 \n"
          ]
        }
      ]
    },
    {
      "cell_type": "code",
      "source": [
        "#Task_3\n",
        "def hocBuilder(n):\n",
        "    if n == 0 or n>8:\n",
        "        return 0\n",
        "    elif n==8:\n",
        "        return 1\n",
        "    return 5 + hocBuilder(n - 1)\n",
        "n = 8\n",
        "print(hocBuilder(n))"
      ],
      "metadata": {
        "colab": {
          "base_uri": "https://localhost:8080/"
        },
        "id": "ej6ABARCVzkB",
        "outputId": "a3d858ac-ea2f-4dc9-c725-00d66a48c34f"
      },
      "execution_count": 9,
      "outputs": [
        {
          "output_type": "stream",
          "name": "stdout",
          "text": [
            "1\n"
          ]
        }
      ]
    },
    {
      "cell_type": "code",
      "source": [
        "#task_4\n",
        "def pettrn(n):\n",
        "  if n == 0:\n",
        "    return('1',end = \" \")\n",
        "  else:\n",
        "    return 1+pettrn(n-1)\n",
        "n = 5\n",
        "print(pettrn(n))"
      ],
      "metadata": {
        "colab": {
          "base_uri": "https://localhost:8080/",
          "height": 143
        },
        "id": "wtiW4feSVzmp",
        "outputId": "58b91774-6ea4-4721-d93d-4eadd50c87ae"
      },
      "execution_count": 11,
      "outputs": [
        {
          "output_type": "error",
          "ename": "SyntaxError",
          "evalue": "ignored",
          "traceback": [
            "\u001b[0;36m  File \u001b[0;32m\"<ipython-input-11-7c3033e06a20>\"\u001b[0;36m, line \u001b[0;32m4\u001b[0m\n\u001b[0;31m    return('1',end = \" \")\u001b[0m\n\u001b[0m               ^\u001b[0m\n\u001b[0;31mSyntaxError\u001b[0m\u001b[0;31m:\u001b[0m invalid syntax. Maybe you meant '==' or ':=' instead of '='?\n"
          ]
        }
      ]
    },
    {
      "cell_type": "code",
      "source": [
        "#task_4(b)\n",
        "def pattern(m, n):\n",
        "    if (m == 0):\n",
        "        return\n",
        "    space(m - 1)\n",
        "    Seq2(n - m + 1)\n",
        "    print()\n",
        "    pattern(m - 1, n)\n",
        "def space(m):\n",
        "    if (m == 0):\n",
        "        return\n",
        "    print(\" \", end=\" \")\n",
        "    space(m - 1)\n",
        "def Seq2(m):\n",
        "    if (m == 0):\n",
        "        return\n",
        "    Seq2(m - 1)\n",
        "    print(m, end=\" \")\n",
        "pattern(5, 5)\n",
        "print()"
      ],
      "metadata": {
        "colab": {
          "base_uri": "https://localhost:8080/"
        },
        "id": "Ujkuc-nCVzpx",
        "outputId": "8ec6dec7-11ba-44a3-af89-bb4c93ab882a"
      },
      "execution_count": 12,
      "outputs": [
        {
          "output_type": "stream",
          "name": "stdout",
          "text": [
            "        1 \n",
            "      1 2 \n",
            "    1 2 3 \n",
            "  1 2 3 4 \n",
            "1 2 3 4 5 \n",
            "\n"
          ]
        }
      ]
    },
    {
      "cell_type": "code",
      "source": [
        "#task_4(b)\n",
        "def Pattern(m):\n",
        "    if (m == 0):\n",
        "        print(\" \")\n",
        "    else:\n",
        "        Pattern(m-1)\n",
        "        Seq(m)\n",
        "def Seq(m):\n",
        "    if (m == 0):\n",
        "        print(\" \")\n",
        "    else:\n",
        "        Seq(m-1)\n",
        "        print(m,end=\" \")\n",
        "Pattern(5)"
      ],
      "metadata": {
        "colab": {
          "base_uri": "https://localhost:8080/"
        },
        "id": "q4fzFjR6Yn_a",
        "outputId": "55acf229-9bb3-4511-90e5-998d4f50e4cd"
      },
      "execution_count": 14,
      "outputs": [
        {
          "output_type": "stream",
          "name": "stdout",
          "text": [
            " \n",
            " \n",
            "1  \n",
            "1 2  \n",
            "1 2 3  \n",
            "1 2 3 4  \n",
            "1 2 3 4 5 "
          ]
        }
      ]
    },
    {
      "cell_type": "code",
      "source": [
        "#Task_5\n",
        "class lq:\n",
        "\n",
        "    def print(self,array,idx):\n",
        "        if(idx<len(array)):\n",
        "            profit = self.calcProfit(array[idx])\n",
        "            print(f\"{idx+1}. Investent: {array[idx]}; Profit: {profit}\")\n",
        "            self.print(array, idx+1)\n",
        "    def calcProfit(self,investment):\n",
        "        if (investment <= 25000):\n",
        "            return 0.0\n",
        "        elif (investment > 25000 and investment <= 100000):\n",
        "            return 45 + self.calcProfit(investment-1000)\n",
        "        elif (investment > 100000):\n",
        "            return 80 + self.calcProfit(investment-1000)\n",
        "        else:\n",
        "            return 0\n",
        "array = [25000,100000,250000,350000]\n",
        "f = lq()\n",
        "f.print(array,0)"
      ],
      "metadata": {
        "colab": {
          "base_uri": "https://localhost:8080/"
        },
        "id": "ehLvcdGBXLxp",
        "outputId": "2407569b-d1c4-43d5-8bcc-ba75b5ca499f"
      },
      "execution_count": 13,
      "outputs": [
        {
          "output_type": "stream",
          "name": "stdout",
          "text": [
            "1. Investent: 25000; Profit: 0.0\n",
            "2. Investent: 100000; Profit: 3375.0\n",
            "3. Investent: 250000; Profit: 15375.0\n",
            "4. Investent: 350000; Profit: 23375.0\n"
          ]
        }
      ]
    },
    {
      "cell_type": "code",
      "source": [
        "#Must TAski_1\n",
        "class Node:\n",
        "  def __init__(self, next, bottom, val):\n",
        "    self.next = next # for next item\n",
        "    self.bottom = bottom # for nested item check\n",
        "    self.val = val # The integer value."
      ],
      "metadata": {
        "id": "uADqQouzXLzx"
      },
      "execution_count": null,
      "outputs": []
    },
    {
      "cell_type": "code",
      "source": [
        "from traitlets.traitlets import Instance\n",
        "def flattenList(given_list, output_list) :\n",
        "  for item in given_list:\n",
        "    if  Instance == int:\n",
        "      output_list.append(item)\n",
        "    else:\n",
        "      return flattenList(item,output_list)\n",
        "def fla_llist(Node,output_list):\n",
        "  while output_list.append(Node.val):\n",
        "    if Node.bottom :\n",
        "      flattenList(Node.bottom,output_list)\n",
        "    Node = Node.next"
      ],
      "metadata": {
        "id": "XdrsR8ItZCLq"
      },
      "execution_count": null,
      "outputs": []
    }
  ]
}